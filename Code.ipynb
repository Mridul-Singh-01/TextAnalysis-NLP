{
 "cells": [
  {
   "cell_type": "code",
   "execution_count": 1,
   "metadata": {},
   "outputs": [],
   "source": [
    "import pandas as pd\n",
    "import os"
   ]
  },
  {
   "cell_type": "code",
   "execution_count": 17,
   "metadata": {},
   "outputs": [],
   "source": [
    "data = pd.read_excel('Input.xlsx')"
   ]
  },
  {
   "cell_type": "code",
   "execution_count": 3,
   "metadata": {},
   "outputs": [],
   "source": [
    "import requests\n",
    "from bs4 import BeautifulSoup"
   ]
  },
  {
   "cell_type": "code",
   "execution_count": 4,
   "metadata": {},
   "outputs": [],
   "source": [
    "# Function to extract article text from a URL\n",
    "def extract_article_text(url):\n",
    "    try:\n",
    "        response = requests.get(url)\n",
    "        soup = BeautifulSoup(response.text, 'html.parser')\n",
    "        article_div = soup.find('div', class_='td-post-content tagdiv-type')\n",
    "        if article_div:\n",
    "            paragraphs = article_div.find_all('p')\n",
    "            article_text = '\\n'.join([p.text.strip() for p in paragraphs])\n",
    "            return article_text\n",
    "        else:\n",
    "            response = requests.get(url)\n",
    "            soup = BeautifulSoup(response.text, 'html.parser')\n",
    "            article_div = soup.find('div', class_='tdb-block-inner td-fix-index')\n",
    "            if article_div:\n",
    "                paragraphs = article_div.find_all('p')\n",
    "                article_text = '\\n'.join([p.text.strip() for p in paragraphs])\n",
    "                return article_text\n",
    "            else:\n",
    "                print(f\"No article content found at {url}\")\n",
    "                return None\n",
    "    except Exception as e:\n",
    "        print(f\"Error occurred while extracting data from {url}: {e}\")\n",
    "        return None, None"
   ]
  },
  {
   "cell_type": "code",
   "execution_count": 5,
   "metadata": {},
   "outputs": [],
   "source": [
    "output_dir = 'extracted_articles'\n",
    "if not os.path.exists(output_dir):\n",
    "    os.makedirs(output_dir)"
   ]
  },
  {
   "cell_type": "code",
   "execution_count": 6,
   "metadata": {},
   "outputs": [
    {
     "name": "stdout",
     "output_type": "stream",
     "text": [
      "Article extracted and saved for URL_ID blackassign0001\n",
      "Article extracted and saved for URL_ID blackassign0002\n",
      "Article extracted and saved for URL_ID blackassign0003\n",
      "Article extracted and saved for URL_ID blackassign0004\n",
      "Article extracted and saved for URL_ID blackassign0005\n",
      "Article extracted and saved for URL_ID blackassign0006\n",
      "Article extracted and saved for URL_ID blackassign0007\n",
      "Article extracted and saved for URL_ID blackassign0008\n",
      "Article extracted and saved for URL_ID blackassign0009\n",
      "Article extracted and saved for URL_ID blackassign0010\n",
      "Article extracted and saved for URL_ID blackassign0011\n",
      "Article extracted and saved for URL_ID blackassign0012\n",
      "Article extracted and saved for URL_ID blackassign0013\n",
      "Article extracted and saved for URL_ID blackassign0015\n",
      "Article extracted and saved for URL_ID blackassign0016\n",
      "Article extracted and saved for URL_ID blackassign0017\n",
      "Article extracted and saved for URL_ID blackassign0018\n",
      "Article extracted and saved for URL_ID blackassign0019\n",
      "Article extracted and saved for URL_ID blackassign0021\n",
      "Article extracted and saved for URL_ID blackassign0022\n",
      "Article extracted and saved for URL_ID blackassign0023\n",
      "Article extracted and saved for URL_ID blackassign0024\n",
      "Article extracted and saved for URL_ID blackassign0025\n",
      "Article extracted and saved for URL_ID blackassign0026\n",
      "Article extracted and saved for URL_ID blackassign0027\n",
      "Article extracted and saved for URL_ID blackassign0028\n",
      "Article extracted and saved for URL_ID blackassign0030\n",
      "Article extracted and saved for URL_ID blackassign0031\n",
      "Article extracted and saved for URL_ID blackassign0032\n",
      "Article extracted and saved for URL_ID blackassign0033\n",
      "Article extracted and saved for URL_ID blackassign0034\n",
      "Article extracted and saved for URL_ID blackassign0035\n",
      "Article extracted and saved for URL_ID blackassign0037\n",
      "Article extracted and saved for URL_ID blackassign0038\n",
      "Article extracted and saved for URL_ID blackassign0039\n",
      "Article extracted and saved for URL_ID blackassign0040\n",
      "Article extracted and saved for URL_ID blackassign0041\n",
      "Article extracted and saved for URL_ID blackassign0042\n",
      "Article extracted and saved for URL_ID blackassign0044\n",
      "Article extracted and saved for URL_ID blackassign0045\n",
      "Article extracted and saved for URL_ID blackassign0046\n",
      "Article extracted and saved for URL_ID blackassign0047\n",
      "Article extracted and saved for URL_ID blackassign0048\n"
     ]
    }
   ],
   "source": [
    "for index, row in data.iterrows():\n",
    "    url_id = row['URL_ID']\n",
    "    url = row['URL']\n",
    "    \n",
    "    # Extract article text from the URL\n",
    "    article_text = extract_article_text(url)\n",
    "    \n",
    "    if article_text:\n",
    "        # Save the extracted article text in a text file\n",
    "        file_name = os.path.join(output_dir, f\"{url_id}.txt\")\n",
    "        with open(file_name, 'w', encoding='utf-8') as file:\n",
    "            file.write(article_text)\n",
    "        print(f\"Article extracted and saved for URL_ID {url_id}\")"
   ]
  },
  {
   "cell_type": "code",
   "execution_count": 20,
   "metadata": {},
   "outputs": [],
   "source": [
    "article_data = []\n",
    "\n",
    "# Iterate over each file in the directory\n",
    "for file_name in os.listdir(output_dir):\n",
    "    if file_name.endswith('.txt'):\n",
    "        # Read the content of the file\n",
    "        with open(os.path.join(output_dir, file_name), 'r', encoding='utf-8') as file:\n",
    "            article_text = file.read()\n",
    "\n",
    "            article_data.append(article_text)"
   ]
  },
  {
   "cell_type": "code",
   "execution_count": 7,
   "metadata": {},
   "outputs": [],
   "source": [
    "import nltk\n",
    "from nltk.tokenize import word_tokenize\n",
    "from nltk.tokenize import sent_tokenize\n",
    "from nltk.corpus import stopwords\n",
    "from pyphen import Pyphen"
   ]
  },
  {
   "cell_type": "code",
   "execution_count": 8,
   "metadata": {},
   "outputs": [
    {
     "name": "stderr",
     "output_type": "stream",
     "text": [
      "[nltk_data] Downloading package wordnet to\n",
      "[nltk_data]     C:\\Users\\mridu\\AppData\\Roaming\\nltk_data...\n",
      "[nltk_data]   Package wordnet is already up-to-date!\n",
      "[nltk_data] Downloading package stopwords to\n",
      "[nltk_data]     C:\\Users\\mridu\\AppData\\Roaming\\nltk_data...\n",
      "[nltk_data]   Package stopwords is already up-to-date!\n"
     ]
    }
   ],
   "source": [
    "p = Pyphen(lang='en_US')\n",
    "nltk.download('wordnet')\n",
    "nltk.download('stopwords')\n",
    "stopWords = stopwords.words('english')"
   ]
  },
  {
   "cell_type": "code",
   "execution_count": 10,
   "metadata": {},
   "outputs": [],
   "source": [
    "positive_words = []\n",
    "\n",
    "pos = open(\"MasterDictionary//positive-words.txt\")\n",
    "\n",
    "\n",
    "for i in pos:\n",
    "    if(i.lower() not in stopWords):\n",
    "        str1 = \"\"\n",
    "        for x in i:\n",
    "            if(x != '\\n'):\n",
    "                str1 += x\n",
    "        positive_words.append(str1)"
   ]
  },
  {
   "cell_type": "code",
   "execution_count": 11,
   "metadata": {},
   "outputs": [],
   "source": [
    "negative_words = []\n",
    "\n",
    "neg = open(\"MasterDictionary//negative-words.txt\")\n",
    "\n",
    "for i in neg:\n",
    "    if(i.lower() not in stopWords):\n",
    "        str1 = \"\"\n",
    "        for x in i:\n",
    "            if(x != '\\n'):\n",
    "                str1 += x\n",
    "        negative_words.append(str1)"
   ]
  },
  {
   "cell_type": "code",
   "execution_count": 13,
   "metadata": {},
   "outputs": [],
   "source": [
    "def analyze_sentiment(tokens, positive_words, negative_words):\n",
    "\n",
    "    positive_score = 0\n",
    "    negative_score = 0\n",
    "\n",
    "    for token in tokens:\n",
    "        if token in positive_words:\n",
    "            positive_score += 1\n",
    "        elif token in negative_words:\n",
    "            negative_score += 1\n",
    "\n",
    "    return positive_score, negative_score\n",
    "\n",
    "    "
   ]
  },
  {
   "cell_type": "code",
   "execution_count": 21,
   "metadata": {},
   "outputs": [],
   "source": [
    "output_data = []\n",
    "\n",
    "curr = 0\n",
    "\n",
    "for i in article_data:\n",
    "\n",
    "    tokens = word_tokenize(i)\n",
    "    filter_data = [token.lower() for token in tokens if token.isalpha() and token.lower() not in stopWords] #stop words defined by us\n",
    "    \n",
    "    positive_score, negative_score = analyze_sentiment(filter_data, positive_words, negative_words)\n",
    "\n",
    "    sentences = nltk.sent_tokenize(i)\n",
    "    num_sentences = len(sentences)\n",
    "    # Tokenize words and remove punctuation\n",
    "    words = nltk.word_tokenize(i)\n",
    "    words = [word.lower() for word in words if word.isalnum()]\n",
    "    \n",
    "    # Complex Word Count\n",
    "    complex_words = [word for word in words if (len(p.positions(word))+1) > 2]\n",
    "\n",
    "    # Average Sentence Length\n",
    "    avg_sentence_length = len(words) / num_sentences\n",
    "\n",
    "    #Percentage Complex Words\n",
    "    percentage_complex_words = len(complex_words) / len(words) * 100\n",
    "\n",
    "    # Fog Index\n",
    "    fog_index = 0.4 * (avg_sentence_length + percentage_complex_words)\n",
    "\n",
    "    # Average Number of Words Per Sentenc\n",
    "    avg_words_per_sentence = len(words) / num_sentences\n",
    "\n",
    "    # Complex Word Count\n",
    "    complex_word_count = len(complex_words)\n",
    "\n",
    "    word_count = len(filter_data)\n",
    "\n",
    "    # Apply Syllable Count Per Word\n",
    "    syllable_count_per_word = sum((len(p.positions(word))+1) for word in filter_data) / word_count\n",
    "\n",
    "    \n",
    "    # Average Word Length\n",
    "    avg_word_length = sum(len(word) for word in words) / word_count\n",
    "\n",
    "\n",
    "\n",
    "\n",
    "    output_data.append({'URL_ID':data['URL_ID'][curr] ,'URL':data['URL'][curr] ,'POSITIVE SCORE':positive_score, 'NEGATIVE SCORE': negative_score, \n",
    "                        'AVG SENTENCE LENGTH':avg_sentence_length, 'PERCENTAGE OF COMPLEX WORDS':percentage_complex_words, 'FOG INDEX': fog_index,\n",
    "                        'AVG NUMBER OF WORDS PER SENTENCE':avg_words_per_sentence, 'COMPLEX WORD COUNT':complex_word_count, 'WORD COUNT':word_count, \n",
    "                        'SYLLABLE PER WORD': syllable_count_per_word, 'AVG WORD LENGTH': avg_word_length})\n",
    "    \n",
    "    curr += 1\n"
   ]
  },
  {
   "cell_type": "code",
   "execution_count": 22,
   "metadata": {},
   "outputs": [],
   "source": [
    "df = pd.DataFrame(output_data)\n",
    "df.to_csv('output_data.csv', index=False)"
   ]
  }
 ],
 "metadata": {
  "kernelspec": {
   "display_name": "Python 3",
   "language": "python",
   "name": "python3"
  },
  "language_info": {
   "codemirror_mode": {
    "name": "ipython",
    "version": 3
   },
   "file_extension": ".py",
   "mimetype": "text/x-python",
   "name": "python",
   "nbconvert_exporter": "python",
   "pygments_lexer": "ipython3",
   "version": "3.10.7"
  }
 },
 "nbformat": 4,
 "nbformat_minor": 2
}
